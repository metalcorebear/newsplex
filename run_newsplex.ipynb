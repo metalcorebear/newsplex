{
 "cells": [
  {
   "cell_type": "markdown",
   "id": "93f4ba9a-f000-4001-9331-418e12d2c828",
   "metadata": {},
   "source": [
    "# Run Newsplex"
   ]
  },
  {
   "cell_type": "code",
   "execution_count": null,
   "id": "7afe48a0-4124-4cc6-91cc-da4e706a13e4",
   "metadata": {},
   "outputs": [],
   "source": [
    "import newsplex\n",
    "import nltk"
   ]
  },
  {
   "cell_type": "code",
   "execution_count": null,
   "id": "cce0e5e9-bf7e-4629-b974-d970fb51faf1",
   "metadata": {},
   "outputs": [],
   "source": [
    "# Install NLTK data if necessary\n",
    "nltk.download('punkt')\n",
    "nltk.download('averaged_perceptron_tagger')\n",
    "nltk.download('punkt_tab')\n",
    "nltk.download('averaged_perceptron_tagger_eng')\n",
    "nltk.download('stopwords')\n",
    "nltk.download('wordnet')"
   ]
  },
  {
   "cell_type": "code",
   "execution_count": null,
   "id": "51b1c830-3f0c-4eb8-a564-46c1381fe00f",
   "metadata": {},
   "outputs": [],
   "source": [
    "output_path = 'news_data'\n",
    "key_location = 'api_key.json'\n",
    "\n",
    "# Date of bracketed event.\n",
    "event_date = '2023-10-07' # October 7th event in Gaza."
   ]
  },
  {
   "cell_type": "code",
   "execution_count": null,
   "id": "1e78b6d8-2fb7-43ec-827c-1f16d5158f12",
   "metadata": {},
   "outputs": [],
   "source": [
    "# Run News Query\n",
    "\n",
    "aggregator = newsplex.newsaggregator(key_location=key_location, filepath=output_path)\n",
    "aggregator.run_query(event_date)\n",
    "aggregator.generate_json()"
   ]
  },
  {
   "cell_type": "code",
   "execution_count": null,
   "id": "f5c4e2b5-9cd6-416d-9e56-8de1a1887ea2",
   "metadata": {},
   "outputs": [],
   "source": [
    "# Compute Persistence Graph.\n",
    "\n",
    "news_results = newsplex.newsplex(filepath=output_path)\n",
    "news_results.fit()\n",
    "news_results.plot_embeddings()\n",
    "news_results.calculate_persistences()"
   ]
  },
  {
   "cell_type": "code",
   "execution_count": null,
   "id": "008fd56a-7308-4b76-b8e4-c3e4fb944543",
   "metadata": {},
   "outputs": [],
   "source": []
  }
 ],
 "metadata": {
  "kernelspec": {
   "display_name": "NEWSPLEX",
   "language": "python",
   "name": "newsplex"
  },
  "language_info": {
   "codemirror_mode": {
    "name": "ipython",
    "version": 3
   },
   "file_extension": ".py",
   "mimetype": "text/x-python",
   "name": "python",
   "nbconvert_exporter": "python",
   "pygments_lexer": "ipython3",
   "version": "3.10.13"
  }
 },
 "nbformat": 4,
 "nbformat_minor": 5
}
